{
 "cells": [
  {
   "cell_type": "markdown",
   "id": "cef5d3ef-23ad-4ea4-af3e-fac861e2d98c",
   "metadata": {},
   "source": [
    "# Boxplot"
   ]
  },
  {
   "cell_type": "markdown",
   "id": "b727f830",
   "metadata": {},
   "source": [
    "### Boxplot shows:\n",
    "- Minimum (excluding outliers): The smallest data point still within 1.5 IQR of the lower quartile.\n",
    "- First Quartile (Q1): 25% of the data fall below this value.\n",
    "- Median (Q2): The middle value (50% of the data fall below this).\n",
    "- Third Quartile (Q3): 75% of the data fall below this value.\n",
    "- Maximum (excluding outliers): The largest data point still within 1.5 IQR of the upper quartile.\n",
    "\n",
    "### Box Components:\n",
    "- Box: Spans from Q1 to Q3 (the interquartile range, or IQR). It shows the middle 50% of the data.\n",
    "- Line inside the box: The median.\n",
    "- Whiskers: Extend from the box to the minimum and maximum values within 1.5 * IQR from Q1 and Q3.\n",
    "- Dots (Outliers): Individual points that fall outside the whiskers (i.e., more than 1.5 * IQR from the quartiles).\n",
    "\n",
    "\n",
    "### What You Can Learn from a Boxplot:\n",
    "- 1) Central tendency (via the median).\n",
    "- 2) Spread of the data (via the IQR and whiskers).\n",
    "- 3) Skewness:\n",
    "\n",
    "     If the median is closer to Q1 → right-skewed.\n",
    "\n",
    "     If the median is closer to Q3 → left-skewed.\n",
    "\n",
    "- 4) Presence of outliers.\n",
    "- 5) Comparison between groups (boxplots are great for side-by-side comparison across categories)."
   ]
  },
  {
   "cell_type": "code",
   "execution_count": 1,
   "id": "b9651f19-9efe-49e7-a2e0-db8c6f0bfe3d",
   "metadata": {},
   "outputs": [],
   "source": [
    "import matplotlib.pyplot as plt\n",
    "import numpy as np\n",
    "import pandas as pd"
   ]
  },
  {
   "cell_type": "code",
   "execution_count": 3,
   "id": "ecb8e397-877c-436c-bac6-ddb20fd81be6",
   "metadata": {},
   "outputs": [],
   "source": [
    "# # Lets generate some data\n",
    "# np.random.seed(42) # Set seed for reproducibility\n",
    "\n",
    "# size = 100\n",
    "# mean = 40\n",
    "# std=5 # 68% of the value would be +/-5 around the mean\n",
    "# # Generate normally distributed values with mean=40 and std=20\n",
    "# random_normal = np.random.normal(loc=mean, scale=std, size=size) # age of people from  a sample of size\n",
    "\n",
    "# # Clip values to be within 20 and 150, then convert to integers\n",
    "# ages_male = np.clip(random_normal, 20, 150).astype(int) # LOOK AT  numpy tutorial on clip function\n",
    "# ages_male = np.sort(ages_male)\n",
    "\n",
    "# print(f\"ages_male: \\n{ages_male}\")"
   ]
  },
  {
   "cell_type": "code",
   "execution_count": 4,
   "id": "b6da9059-3ab7-47e5-aa0b-9e85bb673f0a",
   "metadata": {},
   "outputs": [
    {
     "data": {
      "image/png": "[encoded data removed]",
      "text/plain": [
       "<Figure size 640x480 with 1 Axes>"
      ]
     },
     "metadata": {},
     "output_type": "display_data"
    }
   ],
   "source": [
    "df = pd.read_csv(\"data_age_income_with_outliers.csv\")\n",
    "ages = df['Age']\n",
    "plt.boxplot(ages)\n",
    "plt.show()"
   ]
  },
  {
   "cell_type": "markdown",
   "id": "de590abe-a611-463d-b4e5-ba874f055a8a",
   "metadata": {},
   "source": [
    "## lets determine Q1, Q2,Q3,mean,etc of above"
   ]
  },
  {
   "cell_type": "code",
   "execution_count": 6,
   "id": "ae483012-ce80-4f05-9341-3d42f816b0fc",
   "metadata": {},
   "outputs": [
    {
     "name": "stdout",
     "output_type": "stream",
     "text": [
      "Stats:\n",
      "  Minimum: 10.00\n",
      "  Q1: 27.00\n",
      "  Q2: Median: 37.00\n",
      "  Q3: 50.00\n",
      "  Maximum: 170.00\n",
      "  Outliers: \n",
      "102    160\n",
      "103    165\n",
      "104    170\n",
      "Name: Age, dtype: int64\n",
      "\n"
     ]
    }
   ],
   "source": [
    "data = ages\n",
    "\n",
    "min_val = np.min(data)\n",
    "Q1 = np.percentile(data, 25)\n",
    "median = np.median(data) # Q2 is median\n",
    "Q3 = np.percentile(data, 75)\n",
    "max_val = np.max(data)\n",
    "\n",
    "# Calculate the interquartile range (IQR)\n",
    "IQR = Q3 - Q1\n",
    "\n",
    "# Identify outliers (any data points outside 1.5 * IQR above Q3 or below Q1)\n",
    "outliers = data[(data < (Q1 - 1.5 * IQR)) | (data > (Q3 + 1.5 * IQR))]\n",
    "\n",
    "# Print out the values\n",
    "print(f\"Stats:\")\n",
    "print(f\"  Minimum: {min_val:.2f}\")\n",
    "print(f\"  Q1: {Q1:.2f}\")\n",
    "print(f\"  Q2: Median: {median:.2f}\")\n",
    "print(f\"  Q3: {Q3:.2f}\")\n",
    "print(f\"  Maximum: {max_val:.2f}\")\n",
    "print(f\"  Outliers: \\n{outliers}\")\n",
    "print()"
   ]
  },
  {
   "cell_type": "markdown",
   "id": "7c86b3e7-3064-48e3-85e8-cd111430de1c",
   "metadata": {},
   "source": [
    "# Advanced applications"
   ]
  },
  {
   "cell_type": "code",
   "execution_count": 10,
   "id": "a5ae0df2-ec3b-4ba1-bfe3-4269c49c8301",
   "metadata": {},
   "outputs": [],
   "source": [
    "# Create a function to calculate all boxplot statistics\n",
    "def calculate_box_stats(data):\n",
    "    # Calculate the box plot statistics\n",
    "    min_val = np.min(data)\n",
    "    Q1 = np.percentile(data, 25)\n",
    "    median = np.median(data)\n",
    "    Q3 = np.percentile(data, 75)\n",
    "    max_val = np.max(data)\n",
    "    \n",
    "    # Calculate the interquartile range (IQR)\n",
    "    IQR = Q3 - Q1\n",
    "    \n",
    "    # Identify outliers (any data points outside 1.5 * IQR above Q3 or below Q1)\n",
    "    outliers = data[(data < (Q1 - 1.5 * IQR)) | (data > (Q3 + 1.5 * IQR))]\n",
    "    \n",
    "    return min_val, Q1, median, Q3, max_val, outliers\n",
    "\n",
    "# Print out the values\n",
    "def print_box_stats(stats):\n",
    "    min_val, Q1, median, Q3, max_val, outliers = stats\n",
    "    print(f\"Salary Stats:\")\n",
    "    print(f\"  Minimum: {min_val:.2f}\")\n",
    "    print(f\"  Q1: {Q1:.2f}\")\n",
    "    print(f\"  Median: {median:.2f}\")\n",
    "    print(f\"  Q3: {Q3:.2f}\")\n",
    "    print(f\"  Maximum: {max_val:.2f}\")\n",
    "    print(f\"  Outliers: {outliers}\")\n",
    "    print()"
   ]
  },
  {
   "cell_type": "markdown",
   "id": "bbf20cff-80bc-4c3f-999f-130cb7f77050",
   "metadata": {},
   "source": [
    "## Simulating temperature data for three cities"
   ]
  },
  {
   "cell_type": "code",
   "execution_count": 9,
   "id": "01a4405c-7899-4b9c-a170-732ea2ae083a",
   "metadata": {},
   "outputs": [],
   "source": [
    "# # SKIP First generate the DS and save it in CSV file\n",
    "# size=30\n",
    "# city1_temps = np.random.normal(loc=15, scale=5, size=size)\n",
    "# city2_temps = np.random.normal(loc=22, scale=6, size=size)\n",
    "# city3_temps = np.random.normal(loc=10, scale=4, size=size)\n",
    "# # Step 2: Create DataFrame\n",
    "# df = pd.DataFrame({\n",
    "#     'City_1_Temp': city1_temps,\n",
    "#     'City_2_Temp': city2_temps,\n",
    "#     'City_3_Temp': city3_temps\n",
    "# })\n",
    "\n",
    "# # Step 3: Save to CSV\n",
    "# df.to_csv(\"data_city_temperature.csv\", index=False)\n"
   ]
  },
  {
   "cell_type": "code",
   "execution_count": 11,
   "id": "a4d7ab70-6c6a-479e-9d44-dd3a7f80c525",
   "metadata": {},
   "outputs": [
    {
     "data": {
      "image/png": "[encoded data removed]",
      "text/plain": [
       "<Figure size 640x480 with 1 Axes>"
      ]
     },
     "metadata": {},
     "output_type": "display_data"
    },
    {
     "name": "stdout",
     "output_type": "stream",
     "text": [
      "City1 stats:\n",
      "Salary Stats:\n",
      "  Minimum: 4.26\n",
      "  Q1: 12.21\n",
      "  Median: 14.42\n",
      "  Q3: 16.60\n",
      "  Maximum: 20.86\n",
      "  Outliers: 24    4.255245\n",
      "Name: City_1_Temp, dtype: float64\n",
      "\n",
      "City2 stats:\n",
      "Salary Stats:\n",
      "  Minimum: 14.01\n",
      "  Q1: 21.25\n",
      "  Median: 23.66\n",
      "  Q3: 25.65\n",
      "  Maximum: 32.94\n",
      "  Outliers: 0     32.935546\n",
      "12    14.040402\n",
      "15    14.007931\n",
      "Name: City_2_Temp, dtype: float64\n",
      "\n",
      "City3 stats:\n",
      "Salary Stats:\n",
      "  Minimum: 1.18\n",
      "  Q1: 6.65\n",
      "  Median: 9.99\n",
      "  Q3: 12.87\n",
      "  Maximum: 17.03\n",
      "  Outliers: Series([], Name: City_3_Temp, dtype: float64)\n",
      "\n"
     ]
    }
   ],
   "source": [
    "# read the CSV file\n",
    "df = pd.read_csv(\"data_city_temperature.csv\")\n",
    "city1_temps = df['City_1_Temp']\n",
    "city2_temps = df['City_2_Temp']\n",
    "city3_temps = df['City_3_Temp']\n",
    "\n",
    "# Create a box plot\n",
    "plt.boxplot([city1_temps, city2_temps, city3_temps],\n",
    "            tick_labels=[\"City 1\", \"City 2\", \"City 3\"],\n",
    "            patch_artist=True, \n",
    "            boxprops=dict(facecolor='lightgreen', color='black'),\n",
    "            flierprops=dict(markerfacecolor='red', marker='o')\n",
    ")\n",
    "plt.title(\"Monthly Temperature Distribution in Cities\")\n",
    "plt.xlabel(\"City\")\n",
    "plt.ylabel(\"Temperature (°C)\")\n",
    "plt.grid(True)\n",
    "plt.show()\n",
    "\n",
    "####################################################\n",
    "print(\"City1 stats:\")\n",
    "stats = calculate_box_stats(city1_temps)\n",
    "print_box_stats(stats)\n",
    "\n",
    "\n",
    "print(\"City2 stats:\")\n",
    "stats = calculate_box_stats(city2_temps)\n",
    "print_box_stats(stats)\n",
    "\n",
    "print(\"City3 stats:\")\n",
    "stats = calculate_box_stats(city3_temps)\n",
    "print_box_stats(stats)"
   ]
  },
  {
   "cell_type": "markdown",
   "id": "034378aa-90c3-4877-8c06-b5e3211c759a",
   "metadata": {},
   "source": [
    "# Simulating salary data for different job roles"
   ]
  },
  {
   "cell_type": "code",
   "execution_count": 80,
   "id": "aade6967-445e-42e2-8950-75b97e3072ba",
   "metadata": {},
   "outputs": [
    {
     "data": {
      "image/png": "[encoded data removed]",
      "text/plain": [
       "<Figure size 640x480 with 1 Axes>"
      ]
     },
     "metadata": {},
     "output_type": "display_data"
    }
   ],
   "source": [
    "np.random.seed(0)\n",
    "developer_salaries = np.random.normal(loc=60000, scale=10000, size=200)\n",
    "manager_salaries = np.random.normal(loc=80000, scale=12000, size=150)\n",
    "designer_salaries = np.random.normal(loc=55000, scale=8000, size=120)\n",
    "\n",
    "# Create a box plot\n",
    "plt.boxplot([developer_salaries, manager_salaries, designer_salaries], tick_labels=[\"Developer\", \"Manager\", \"Designer\"], patch_artist=True, \n",
    "            boxprops=dict(facecolor='lightblue', color='black'), flierprops=dict(markerfacecolor='red', marker='o'))\n",
    "plt.title(\"Salary Distribution by Job Role\")\n",
    "plt.xlabel(\"Job Role\")\n",
    "plt.ylabel(\"Salary ($)\")\n",
    "plt.grid(True)\n",
    "plt.show()"
   ]
  },
  {
   "cell_type": "code",
   "execution_count": null,
   "id": "4037f459-be19-458e-b9b7-41c7eec09439",
   "metadata": {},
   "outputs": [],
   "source": []
  }
 ],
 "metadata": {
  "kernelspec": {
   "display_name": "Python 3 (ipykernel)",
   "language": "python",
   "name": "python3"
  },
  "language_info": {
   "codemirror_mode": {
    "name": "ipython",
    "version": 3
   },
   "file_extension": ".py",
   "mimetype": "text/x-python",
   "name": "python",
   "nbconvert_exporter": "python",
   "pygments_lexer": "ipython3",
   "version": "3.11.2"
  }
 },
 "nbformat": 4,
 "nbformat_minor": 5
}
